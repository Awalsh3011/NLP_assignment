{
  "cells": [
    {
      "cell_type": "markdown",
      "metadata": {
        "id": "c_Z-i5i_PcHf"
      },
      "source": []
    },
    {
      "cell_type": "markdown",
      "metadata": {
        "id": "yV9WW7voPcHj"
      },
      "source": [
        "# Natural Language Processing </a>\n",
        "\n",
        "## Assignment: K Nearest Neighbors Model for the IMDB Movie Review Dataset\n",
        "\n",
        "For the final project, build a K Nearest Neighbors model to predict the sentiment (positive or negative) of movie reviews. The dataset is originally hosted here: http://ai.stanford.edu/~amaas/data/sentiment/\n",
        "\n",
        "Use the notebooks from the class and implement the model, train and test with the corresponding datasets.\n",
        "\n",
        "You can follow these steps:\n",
        "1. Read training-test data (Given)\n",
        "2. Train a KNN classifier (Implement)\n",
        "3. Make predictions on your test dataset (Implement)\n",
        "\n",
        "__You can use the KNN Classifier from here: https://scikit-learn.org/stable/modules/generated/sklearn.neighbors.KNeighborsClassifier.html__"
      ]
    },
    {
      "cell_type": "markdown",
      "metadata": {
        "id": "Qf9gzc3NPcHm"
      },
      "source": [
        "## 1. Reading the dataset\n",
        "\n",
        "We will use the __pandas__ library to read our dataset. "
      ]
    },
    {
      "cell_type": "markdown",
      "metadata": {
        "id": "6R1S95FYPcHm"
      },
      "source": [
        "#### __Training data:__\n",
        "Let's read our training data. Here, we have the text and label fields. Labe is 1 for positive reviews and 0 for negative reviews."
      ]
    },
    {
      "cell_type": "code",
      "execution_count": 2,
      "metadata": {
        "id": "imYuQ2EcPcHn",
        "colab": {
          "base_uri": "https://localhost:8080/",
          "height": 206
        },
        "outputId": "ea2f5122-e7dd-48c5-d26d-b6b8d310ac30"
      },
      "outputs": [
        {
          "output_type": "execute_result",
          "data": {
            "text/plain": [
              "                                                text  label\n",
              "0  This movie makes me want to throw up every tim...      0\n",
              "1  Listening to the director's commentary confirm...      0\n",
              "2  One of the best Tarzan films is also one of it...      1\n",
              "3  Valentine is now one of my favorite slasher fi...      1\n",
              "4  No mention if Ann Rivers Siddons adapted the m...      0"
            ],
            "text/html": [
              "\n",
              "  <div id=\"df-179584e5-c60c-4574-bf09-030a71308a54\">\n",
              "    <div class=\"colab-df-container\">\n",
              "      <div>\n",
              "<style scoped>\n",
              "    .dataframe tbody tr th:only-of-type {\n",
              "        vertical-align: middle;\n",
              "    }\n",
              "\n",
              "    .dataframe tbody tr th {\n",
              "        vertical-align: top;\n",
              "    }\n",
              "\n",
              "    .dataframe thead th {\n",
              "        text-align: right;\n",
              "    }\n",
              "</style>\n",
              "<table border=\"1\" class=\"dataframe\">\n",
              "  <thead>\n",
              "    <tr style=\"text-align: right;\">\n",
              "      <th></th>\n",
              "      <th>text</th>\n",
              "      <th>label</th>\n",
              "    </tr>\n",
              "  </thead>\n",
              "  <tbody>\n",
              "    <tr>\n",
              "      <th>0</th>\n",
              "      <td>This movie makes me want to throw up every tim...</td>\n",
              "      <td>0</td>\n",
              "    </tr>\n",
              "    <tr>\n",
              "      <th>1</th>\n",
              "      <td>Listening to the director's commentary confirm...</td>\n",
              "      <td>0</td>\n",
              "    </tr>\n",
              "    <tr>\n",
              "      <th>2</th>\n",
              "      <td>One of the best Tarzan films is also one of it...</td>\n",
              "      <td>1</td>\n",
              "    </tr>\n",
              "    <tr>\n",
              "      <th>3</th>\n",
              "      <td>Valentine is now one of my favorite slasher fi...</td>\n",
              "      <td>1</td>\n",
              "    </tr>\n",
              "    <tr>\n",
              "      <th>4</th>\n",
              "      <td>No mention if Ann Rivers Siddons adapted the m...</td>\n",
              "      <td>0</td>\n",
              "    </tr>\n",
              "  </tbody>\n",
              "</table>\n",
              "</div>\n",
              "      <button class=\"colab-df-convert\" onclick=\"convertToInteractive('df-179584e5-c60c-4574-bf09-030a71308a54')\"\n",
              "              title=\"Convert this dataframe to an interactive table.\"\n",
              "              style=\"display:none;\">\n",
              "        \n",
              "  <svg xmlns=\"http://www.w3.org/2000/svg\" height=\"24px\"viewBox=\"0 0 24 24\"\n",
              "       width=\"24px\">\n",
              "    <path d=\"M0 0h24v24H0V0z\" fill=\"none\"/>\n",
              "    <path d=\"M18.56 5.44l.94 2.06.94-2.06 2.06-.94-2.06-.94-.94-2.06-.94 2.06-2.06.94zm-11 1L8.5 8.5l.94-2.06 2.06-.94-2.06-.94L8.5 2.5l-.94 2.06-2.06.94zm10 10l.94 2.06.94-2.06 2.06-.94-2.06-.94-.94-2.06-.94 2.06-2.06.94z\"/><path d=\"M17.41 7.96l-1.37-1.37c-.4-.4-.92-.59-1.43-.59-.52 0-1.04.2-1.43.59L10.3 9.45l-7.72 7.72c-.78.78-.78 2.05 0 2.83L4 21.41c.39.39.9.59 1.41.59.51 0 1.02-.2 1.41-.59l7.78-7.78 2.81-2.81c.8-.78.8-2.07 0-2.86zM5.41 20L4 18.59l7.72-7.72 1.47 1.35L5.41 20z\"/>\n",
              "  </svg>\n",
              "      </button>\n",
              "      \n",
              "  <style>\n",
              "    .colab-df-container {\n",
              "      display:flex;\n",
              "      flex-wrap:wrap;\n",
              "      gap: 12px;\n",
              "    }\n",
              "\n",
              "    .colab-df-convert {\n",
              "      background-color: #E8F0FE;\n",
              "      border: none;\n",
              "      border-radius: 50%;\n",
              "      cursor: pointer;\n",
              "      display: none;\n",
              "      fill: #1967D2;\n",
              "      height: 32px;\n",
              "      padding: 0 0 0 0;\n",
              "      width: 32px;\n",
              "    }\n",
              "\n",
              "    .colab-df-convert:hover {\n",
              "      background-color: #E2EBFA;\n",
              "      box-shadow: 0px 1px 2px rgba(60, 64, 67, 0.3), 0px 1px 3px 1px rgba(60, 64, 67, 0.15);\n",
              "      fill: #174EA6;\n",
              "    }\n",
              "\n",
              "    [theme=dark] .colab-df-convert {\n",
              "      background-color: #3B4455;\n",
              "      fill: #D2E3FC;\n",
              "    }\n",
              "\n",
              "    [theme=dark] .colab-df-convert:hover {\n",
              "      background-color: #434B5C;\n",
              "      box-shadow: 0px 1px 3px 1px rgba(0, 0, 0, 0.15);\n",
              "      filter: drop-shadow(0px 1px 2px rgba(0, 0, 0, 0.3));\n",
              "      fill: #FFFFFF;\n",
              "    }\n",
              "  </style>\n",
              "\n",
              "      <script>\n",
              "        const buttonEl =\n",
              "          document.querySelector('#df-179584e5-c60c-4574-bf09-030a71308a54 button.colab-df-convert');\n",
              "        buttonEl.style.display =\n",
              "          google.colab.kernel.accessAllowed ? 'block' : 'none';\n",
              "\n",
              "        async function convertToInteractive(key) {\n",
              "          const element = document.querySelector('#df-179584e5-c60c-4574-bf09-030a71308a54');\n",
              "          const dataTable =\n",
              "            await google.colab.kernel.invokeFunction('convertToInteractive',\n",
              "                                                     [key], {});\n",
              "          if (!dataTable) return;\n",
              "\n",
              "          const docLinkHtml = 'Like what you see? Visit the ' +\n",
              "            '<a target=\"_blank\" href=https://colab.research.google.com/notebooks/data_table.ipynb>data table notebook</a>'\n",
              "            + ' to learn more about interactive tables.';\n",
              "          element.innerHTML = '';\n",
              "          dataTable['output_type'] = 'display_data';\n",
              "          await google.colab.output.renderOutput(dataTable, element);\n",
              "          const docLink = document.createElement('div');\n",
              "          docLink.innerHTML = docLinkHtml;\n",
              "          element.appendChild(docLink);\n",
              "        }\n",
              "      </script>\n",
              "    </div>\n",
              "  </div>\n",
              "  "
            ]
          },
          "metadata": {},
          "execution_count": 2
        }
      ],
      "source": [
        "import pandas as pd\n",
        "\n",
        "train_df = pd.read_csv('https://raw.githubusercontent.com/aws-samples/aws-machine-learning-university-accelerated-nlp/master/data/final_project/imdb_train.csv', header=0)\n",
        "train_df.head(5)"
      ]
    },
    {
      "cell_type": "code",
      "source": [
        "print('The shape of the dataset is:', train_df.shape)\n",
        "print(train_df.isna().sum())"
      ],
      "metadata": {
        "id": "T2pzCJeajtKo",
        "colab": {
          "base_uri": "https://localhost:8080/"
        },
        "outputId": "1dadd2d4-3737-4481-df80-d7a596fa0713"
      },
      "execution_count": 3,
      "outputs": [
        {
          "output_type": "stream",
          "name": "stdout",
          "text": [
            "The shape of the dataset is: (25000, 2)\n",
            "text     0\n",
            "label    0\n",
            "dtype: int64\n"
          ]
        }
      ]
    },
    {
      "cell_type": "markdown",
      "metadata": {
        "id": "h5c7uQRYPcHn"
      },
      "source": [
        "#### __Test data:__"
      ]
    },
    {
      "cell_type": "code",
      "execution_count": 4,
      "metadata": {
        "id": "DiBpa04fPcHo",
        "colab": {
          "base_uri": "https://localhost:8080/",
          "height": 206
        },
        "outputId": "d2f26154-e5e1-4e7e-8472-0cc29f7e5465"
      },
      "outputs": [
        {
          "output_type": "execute_result",
          "data": {
            "text/plain": [
              "                                                text  label\n",
              "0  What I hoped for (or even expected) was the we...      0\n",
              "1  Garden State must rate amongst the most contri...      0\n",
              "2  There is a lot wrong with this film. I will no...      1\n",
              "3  To qualify my use of \"realistic\" in the summar...      1\n",
              "4  Dirty War is absolutely one of the best politi...      1"
            ],
            "text/html": [
              "\n",
              "  <div id=\"df-c1fc2c71-c414-4320-9576-1f6511611335\">\n",
              "    <div class=\"colab-df-container\">\n",
              "      <div>\n",
              "<style scoped>\n",
              "    .dataframe tbody tr th:only-of-type {\n",
              "        vertical-align: middle;\n",
              "    }\n",
              "\n",
              "    .dataframe tbody tr th {\n",
              "        vertical-align: top;\n",
              "    }\n",
              "\n",
              "    .dataframe thead th {\n",
              "        text-align: right;\n",
              "    }\n",
              "</style>\n",
              "<table border=\"1\" class=\"dataframe\">\n",
              "  <thead>\n",
              "    <tr style=\"text-align: right;\">\n",
              "      <th></th>\n",
              "      <th>text</th>\n",
              "      <th>label</th>\n",
              "    </tr>\n",
              "  </thead>\n",
              "  <tbody>\n",
              "    <tr>\n",
              "      <th>0</th>\n",
              "      <td>What I hoped for (or even expected) was the we...</td>\n",
              "      <td>0</td>\n",
              "    </tr>\n",
              "    <tr>\n",
              "      <th>1</th>\n",
              "      <td>Garden State must rate amongst the most contri...</td>\n",
              "      <td>0</td>\n",
              "    </tr>\n",
              "    <tr>\n",
              "      <th>2</th>\n",
              "      <td>There is a lot wrong with this film. I will no...</td>\n",
              "      <td>1</td>\n",
              "    </tr>\n",
              "    <tr>\n",
              "      <th>3</th>\n",
              "      <td>To qualify my use of \"realistic\" in the summar...</td>\n",
              "      <td>1</td>\n",
              "    </tr>\n",
              "    <tr>\n",
              "      <th>4</th>\n",
              "      <td>Dirty War is absolutely one of the best politi...</td>\n",
              "      <td>1</td>\n",
              "    </tr>\n",
              "  </tbody>\n",
              "</table>\n",
              "</div>\n",
              "      <button class=\"colab-df-convert\" onclick=\"convertToInteractive('df-c1fc2c71-c414-4320-9576-1f6511611335')\"\n",
              "              title=\"Convert this dataframe to an interactive table.\"\n",
              "              style=\"display:none;\">\n",
              "        \n",
              "  <svg xmlns=\"http://www.w3.org/2000/svg\" height=\"24px\"viewBox=\"0 0 24 24\"\n",
              "       width=\"24px\">\n",
              "    <path d=\"M0 0h24v24H0V0z\" fill=\"none\"/>\n",
              "    <path d=\"M18.56 5.44l.94 2.06.94-2.06 2.06-.94-2.06-.94-.94-2.06-.94 2.06-2.06.94zm-11 1L8.5 8.5l.94-2.06 2.06-.94-2.06-.94L8.5 2.5l-.94 2.06-2.06.94zm10 10l.94 2.06.94-2.06 2.06-.94-2.06-.94-.94-2.06-.94 2.06-2.06.94z\"/><path d=\"M17.41 7.96l-1.37-1.37c-.4-.4-.92-.59-1.43-.59-.52 0-1.04.2-1.43.59L10.3 9.45l-7.72 7.72c-.78.78-.78 2.05 0 2.83L4 21.41c.39.39.9.59 1.41.59.51 0 1.02-.2 1.41-.59l7.78-7.78 2.81-2.81c.8-.78.8-2.07 0-2.86zM5.41 20L4 18.59l7.72-7.72 1.47 1.35L5.41 20z\"/>\n",
              "  </svg>\n",
              "      </button>\n",
              "      \n",
              "  <style>\n",
              "    .colab-df-container {\n",
              "      display:flex;\n",
              "      flex-wrap:wrap;\n",
              "      gap: 12px;\n",
              "    }\n",
              "\n",
              "    .colab-df-convert {\n",
              "      background-color: #E8F0FE;\n",
              "      border: none;\n",
              "      border-radius: 50%;\n",
              "      cursor: pointer;\n",
              "      display: none;\n",
              "      fill: #1967D2;\n",
              "      height: 32px;\n",
              "      padding: 0 0 0 0;\n",
              "      width: 32px;\n",
              "    }\n",
              "\n",
              "    .colab-df-convert:hover {\n",
              "      background-color: #E2EBFA;\n",
              "      box-shadow: 0px 1px 2px rgba(60, 64, 67, 0.3), 0px 1px 3px 1px rgba(60, 64, 67, 0.15);\n",
              "      fill: #174EA6;\n",
              "    }\n",
              "\n",
              "    [theme=dark] .colab-df-convert {\n",
              "      background-color: #3B4455;\n",
              "      fill: #D2E3FC;\n",
              "    }\n",
              "\n",
              "    [theme=dark] .colab-df-convert:hover {\n",
              "      background-color: #434B5C;\n",
              "      box-shadow: 0px 1px 3px 1px rgba(0, 0, 0, 0.15);\n",
              "      filter: drop-shadow(0px 1px 2px rgba(0, 0, 0, 0.3));\n",
              "      fill: #FFFFFF;\n",
              "    }\n",
              "  </style>\n",
              "\n",
              "      <script>\n",
              "        const buttonEl =\n",
              "          document.querySelector('#df-c1fc2c71-c414-4320-9576-1f6511611335 button.colab-df-convert');\n",
              "        buttonEl.style.display =\n",
              "          google.colab.kernel.accessAllowed ? 'block' : 'none';\n",
              "\n",
              "        async function convertToInteractive(key) {\n",
              "          const element = document.querySelector('#df-c1fc2c71-c414-4320-9576-1f6511611335');\n",
              "          const dataTable =\n",
              "            await google.colab.kernel.invokeFunction('convertToInteractive',\n",
              "                                                     [key], {});\n",
              "          if (!dataTable) return;\n",
              "\n",
              "          const docLinkHtml = 'Like what you see? Visit the ' +\n",
              "            '<a target=\"_blank\" href=https://colab.research.google.com/notebooks/data_table.ipynb>data table notebook</a>'\n",
              "            + ' to learn more about interactive tables.';\n",
              "          element.innerHTML = '';\n",
              "          dataTable['output_type'] = 'display_data';\n",
              "          await google.colab.output.renderOutput(dataTable, element);\n",
              "          const docLink = document.createElement('div');\n",
              "          docLink.innerHTML = docLinkHtml;\n",
              "          element.appendChild(docLink);\n",
              "        }\n",
              "      </script>\n",
              "    </div>\n",
              "  </div>\n",
              "  "
            ]
          },
          "metadata": {},
          "execution_count": 4
        }
      ],
      "source": [
        "import pandas as pd\n",
        "\n",
        "test_df = pd.read_csv('https://raw.githubusercontent.com/aws-samples/aws-machine-learning-university-accelerated-nlp/master/data/final_project/imdb_test.csv', header=0)\n",
        "test_df.head(5)"
      ]
    },
    {
      "cell_type": "code",
      "source": [
        "print('The shape of the dataset is:', test_df.shape)\n",
        "print(test_df.isna().sum())"
      ],
      "metadata": {
        "id": "Q8Cp4hLTjxBL",
        "colab": {
          "base_uri": "https://localhost:8080/"
        },
        "outputId": "bca773c1-920a-43e3-bbb9-648af3928db0"
      },
      "execution_count": 5,
      "outputs": [
        {
          "output_type": "stream",
          "name": "stdout",
          "text": [
            "The shape of the dataset is: (25000, 2)\n",
            "text     0\n",
            "label    0\n",
            "dtype: int64\n"
          ]
        }
      ]
    },
    {
      "cell_type": "markdown",
      "metadata": {
        "id": "_n7O1xvmPcHp"
      },
      "source": [
        "## 2. Train a KNN Classifier\n",
        "Here, you will apply pre-processing operations we covered in the class. Then, you can split your dataset to training and validation here. For your first submission, you will use __K Nearest Neighbors Classifier__. It is available [here](https://scikit-learn.org/stable/modules/generated/sklearn.neighbors.KNeighborsClassifier.html)."
      ]
    },
    {
      "cell_type": "code",
      "execution_count": 6,
      "metadata": {
        "id": "5f90bOZGPcHp"
      },
      "outputs": [],
      "source": [
        "# Implement this"
      ]
    },
    {
      "cell_type": "markdown",
      "source": [
        "Apply pre-processing operations : lower case, stemming and stop words removal.\n",
        "Shuffle datatset before splitting.\n",
        "Split train_df  to training set and validation set - training (90%) and validation (10%)\n",
        "train_df , test_df"
      ],
      "metadata": {
        "id": "NR0gkz07ZWoY"
      }
    },
    {
      "cell_type": "markdown",
      "source": [
        "Text processing: stop words removal, stemming and text cleaning processes."
      ],
      "metadata": {
        "id": "5wvP65VfFgCC"
      }
    },
    {
      "cell_type": "code",
      "source": [
        "import nltk\n",
        "nltk.download('punkt')\n",
        "nltk.download('stopwords')"
      ],
      "metadata": {
        "colab": {
          "base_uri": "https://localhost:8080/"
        },
        "id": "6WCRVX6XZvZL",
        "outputId": "a3e37a4b-3bc6-47fa-a4f0-5d92274f564c"
      },
      "execution_count": 7,
      "outputs": [
        {
          "output_type": "stream",
          "name": "stderr",
          "text": [
            "[nltk_data] Downloading package punkt to /root/nltk_data...\n",
            "[nltk_data]   Unzipping tokenizers/punkt.zip.\n",
            "[nltk_data] Downloading package stopwords to /root/nltk_data...\n",
            "[nltk_data]   Unzipping corpora/stopwords.zip.\n"
          ]
        },
        {
          "output_type": "execute_result",
          "data": {
            "text/plain": [
              "True"
            ]
          },
          "metadata": {},
          "execution_count": 7
        }
      ]
    },
    {
      "cell_type": "code",
      "source": [
        "from sklearn.utils import validation\n",
        "import re , nltk\n",
        "from nltk.corpus import stopwords\n",
        "from nltk.stem import SnowballStemmer\n",
        "from nltk.tokenize import word_tokenize\n",
        "\n",
        "# Let's get a list of stop words from the NLTK library\n",
        "stop = stopwords.words('english')\n",
        "\n",
        "# These words are important for our problem. We don't want to remove them.\n",
        "excluding = ['against', 'not', 'don', \"don't\",'ain', 'aren', \"aren't\", 'couldn', \"couldn't\",\n",
        "             'didn', \"didn't\", 'doesn', \"doesn't\", 'hadn', \"hadn't\", 'hasn', \"hasn't\", \n",
        "             'haven', \"haven't\", 'isn', \"isn't\", 'mightn', \"mightn't\", 'mustn', \"mustn't\",\n",
        "             'needn', \"needn't\",'shouldn', \"shouldn't\", 'wasn', \"wasn't\", 'weren', \n",
        "             \"weren't\", 'won', \"won't\", 'wouldn', \"wouldn't\"]\n",
        "\n",
        "# New stop word list\n",
        "stop_words = [word for word in stop if word not in excluding]\n",
        "\n",
        "snow = SnowballStemmer('english')\n",
        "\n",
        "# process_text function\n",
        "def process_text(texts): \n",
        "    final_text_list=[]\n",
        "    for sent in texts:\n",
        "        \n",
        "        # Check if the sentence is a missing value\n",
        "        if isinstance(sent, str) == False:\n",
        "            sent = \"\"\n",
        "            \n",
        "        filtered_sentence=[]\n",
        "        \n",
        "        sent = sent.lower() # Lowercase \n",
        "        sent = sent.strip() # Remove leading/trailing whitespace\n",
        "        sent = re.sub('\\s+', ' ', sent) # Remove extra space and tabs\n",
        "        sent = re.compile('<.*?>').sub('', sent) # Remove HTML tags/markups:\n",
        "        \n",
        "        for w in word_tokenize(sent):\n",
        "            # We are applying some custom filtering here, feel free to try different things\n",
        "            # Check if it is not numeric and its length>2 and not in stop words\n",
        "            if(not w.isnumeric()) and (len(w)>2) and (w not in stop_words):  \n",
        "                # Stem and add to filtered list\n",
        "                filtered_sentence.append(snow.stem(w))\n",
        "        final_string = \" \".join(filtered_sentence) #final string of cleaned words\n",
        " \n",
        "        final_text_list.append(final_string)\n",
        "        \n",
        "    return final_text_list"
      ],
      "metadata": {
        "id": "MW5cbeoeksbJ"
      },
      "execution_count": 8,
      "outputs": []
    },
    {
      "cell_type": "markdown",
      "source": [
        "Splitting train_df into training (90%) and validation (10%) and shuffle"
      ],
      "metadata": {
        "id": "B6ewoex5GQwK"
      }
    },
    {
      "cell_type": "code",
      "source": [
        "from sklearn.model_selection import train_test_split\n",
        "X=train_df[[\"text\"]]\n",
        "Y=train_df[\"label\"]\n",
        "X_train, X_val, y_train, y_val = train_test_split(X,\n",
        "                                                  Y,\n",
        "                                                  test_size=0.10,\n",
        "                                                  shuffle=True,\n",
        "                                                  random_state=324\n",
        "                                                 )"
      ],
      "metadata": {
        "id": "lz-qUCRxGPKX"
      },
      "execution_count": 9,
      "outputs": []
    },
    {
      "cell_type": "code",
      "source": [
        "print(\"Processing the reviewText fields\")\n",
        "train_text_list = process_text(X_train[\"text\"].tolist())\n",
        "val_text_list = process_text(X_val[\"text\"].tolist())"
      ],
      "metadata": {
        "colab": {
          "base_uri": "https://localhost:8080/"
        },
        "id": "gUiN1m_TpugR",
        "outputId": "2d43bdf6-5468-4131-aff9-c781d6d2961b"
      },
      "execution_count": 10,
      "outputs": [
        {
          "output_type": "stream",
          "name": "stdout",
          "text": [
            "Processing the reviewText fields\n"
          ]
        }
      ]
    },
    {
      "cell_type": "code",
      "source": [
        "print(train_text_list[0])\n",
        "print(val_text_list[0])"
      ],
      "metadata": {
        "colab": {
          "base_uri": "https://localhost:8080/"
        },
        "id": "0oWcPX0ZG-RG",
        "outputId": "8acaf634-2e3b-4d28-9010-9d4fe1f57b0d"
      },
      "execution_count": 11,
      "outputs": [
        {
          "output_type": "stream",
          "name": "stdout",
          "text": [
            "extrem tens thriller set urban chao são paulo biggest ugliest third world nightmar brazilian urbania sake make easi anyon curious intrigu truli well made film grit mexican featur amor perro charact not far max cadi cape fear although not mean film psychopath two partner alexandr borg marco ricca construct compani pay hitman anisio miklo third partner major share holder said construct outfit murder blame citi thing begin look grim inde witti charismat walk nightmar anisio decid want around ever nervous partner crime not trespass import deconstruct strict social code make brazilian societi anisio turn poverti attitud want look almost entir handheld graini perform outstand throughout especi first time actor member classic brazilian pop band titã paulo miklo dazzl baffl viewer pretti funni social terror.i saw film brasília film fest novemb 2001. sinc done well sundanc berlin kleber mendonça filho\n",
            "classic film noir homag chinatown roman polanski return theme given greatest hit 60s creepi psycholog horror like repuls rosemari babi deal paranoia claustrophobia generat apart living.claustrophob environ one polanski best creat suffoc confin pictur ever creat emphasi side wall distant vanish point greater ever even small number exterior scene sky rare glimps tenant not confin spatial also intens focus protagonist trelkovski play polanski not everi scene virtual everi shot not screen often not camera becom trelkovski point view cours almost everywher look see reflect stare back mirror.i n't think film internalis solitud one charact psycholog thriller like peep tom manipul feel sorri mental ill protagonist other like psycho attempt in-depth scientif analysi mental condit tenant fit neither categori simpli immers complet insid trelkovski experi without demand actual understand appreci go insid head feel paranoia obsess even though constant reveal irrational.polanski also master slowli unfold horror film often horror ambigu whether actual anyth sinist go among effect frighten audienc precis unfold slowli invest much time painstak set situat immers viewer paranoia much later polanski horror ninth gate bit mess plot-wis least still manag achiev creep sens dread.thi rare chanc see polanski major role talent front camera good behind absolut perfect meek trelkovski anoth standout perform all-too-often overlook shelley winter concierg actual fact rather stellar cast although mani familiar face look place strang gothic european movi also sad mani french actor support role atroci dub english languag version.th tenant polish less pretenti repuls lack suspens charact make rosemari babi engross entertain tenant good major flaw polanski realli top form director not among grip work\n"
          ]
        }
      ]
    },
    {
      "cell_type": "markdown",
      "source": [
        "Data Processing with Pipeline\n",
        "\n",
        "simple pipeline to use our text field and fit a simple K Nearest Neighbour classifier\n",
        "\n",
        "uses a single field - text column"
      ],
      "metadata": {
        "id": "vAhfHK2HG3wI"
      }
    },
    {
      "cell_type": "code",
      "source": [
        "from sklearn.pipeline import Pipeline\n",
        "from sklearn.feature_extraction.text import CountVectorizer\n",
        "from sklearn.feature_extraction.text import TfidfVectorizer\n",
        "from sklearn.neighbors import KNeighborsClassifier\n",
        "\n",
        "\n",
        "import gensim\n",
        "from gensim.models import Word2Vec\n",
        "### PIPELINE ###\n",
        "##########################\n",
        "w2v = gensim.models.Word2Vec()\n",
        "pipeline = Pipeline([\n",
        "    #('text_vect', CountVectorizer(binary=False,\n",
        "    ( 'text_vect', TfidfVectorizer(use_idf=False,\n",
        "                                  max_features=30)),\n",
        "    ('knn', KNeighborsClassifier())  \n",
        "                                ])\n",
        "\n",
        "# Visualize the pipeline\n",
        "# This will come in handy especially when building more complex pipelines, stringing together multiple preprocessing steps\n",
        "from sklearn import set_config\n",
        "set_config(display='diagram')\n",
        "pipeline"
      ],
      "metadata": {
        "colab": {
          "base_uri": "https://localhost:8080/",
          "height": 126
        },
        "id": "RTv4nCIup8MB",
        "outputId": "3bc9f42f-0517-4d68-8b95-d1e49ec8fd7f"
      },
      "execution_count": 27,
      "outputs": [
        {
          "output_type": "execute_result",
          "data": {
            "text/plain": [
              "Pipeline(steps=[('text_vect', TfidfVectorizer(max_features=30, use_idf=False)),\n",
              "                ('knn', KNeighborsClassifier())])"
            ],
            "text/html": [
              "<style>#sk-0d5d7fa2-baed-4a9e-849a-95b46bfb5c74 {color: black;background-color: white;}#sk-0d5d7fa2-baed-4a9e-849a-95b46bfb5c74 pre{padding: 0;}#sk-0d5d7fa2-baed-4a9e-849a-95b46bfb5c74 div.sk-toggleable {background-color: white;}#sk-0d5d7fa2-baed-4a9e-849a-95b46bfb5c74 label.sk-toggleable__label {cursor: pointer;display: block;width: 100%;margin-bottom: 0;padding: 0.3em;box-sizing: border-box;text-align: center;}#sk-0d5d7fa2-baed-4a9e-849a-95b46bfb5c74 label.sk-toggleable__label-arrow:before {content: \"▸\";float: left;margin-right: 0.25em;color: #696969;}#sk-0d5d7fa2-baed-4a9e-849a-95b46bfb5c74 label.sk-toggleable__label-arrow:hover:before {color: black;}#sk-0d5d7fa2-baed-4a9e-849a-95b46bfb5c74 div.sk-estimator:hover label.sk-toggleable__label-arrow:before {color: black;}#sk-0d5d7fa2-baed-4a9e-849a-95b46bfb5c74 div.sk-toggleable__content {max-height: 0;max-width: 0;overflow: hidden;text-align: left;background-color: #f0f8ff;}#sk-0d5d7fa2-baed-4a9e-849a-95b46bfb5c74 div.sk-toggleable__content pre {margin: 0.2em;color: black;border-radius: 0.25em;background-color: #f0f8ff;}#sk-0d5d7fa2-baed-4a9e-849a-95b46bfb5c74 input.sk-toggleable__control:checked~div.sk-toggleable__content {max-height: 200px;max-width: 100%;overflow: auto;}#sk-0d5d7fa2-baed-4a9e-849a-95b46bfb5c74 input.sk-toggleable__control:checked~label.sk-toggleable__label-arrow:before {content: \"▾\";}#sk-0d5d7fa2-baed-4a9e-849a-95b46bfb5c74 div.sk-estimator input.sk-toggleable__control:checked~label.sk-toggleable__label {background-color: #d4ebff;}#sk-0d5d7fa2-baed-4a9e-849a-95b46bfb5c74 div.sk-label input.sk-toggleable__control:checked~label.sk-toggleable__label {background-color: #d4ebff;}#sk-0d5d7fa2-baed-4a9e-849a-95b46bfb5c74 input.sk-hidden--visually {border: 0;clip: rect(1px 1px 1px 1px);clip: rect(1px, 1px, 1px, 1px);height: 1px;margin: -1px;overflow: hidden;padding: 0;position: absolute;width: 1px;}#sk-0d5d7fa2-baed-4a9e-849a-95b46bfb5c74 div.sk-estimator {font-family: monospace;background-color: #f0f8ff;border: 1px dotted black;border-radius: 0.25em;box-sizing: border-box;margin-bottom: 0.5em;}#sk-0d5d7fa2-baed-4a9e-849a-95b46bfb5c74 div.sk-estimator:hover {background-color: #d4ebff;}#sk-0d5d7fa2-baed-4a9e-849a-95b46bfb5c74 div.sk-parallel-item::after {content: \"\";width: 100%;border-bottom: 1px solid gray;flex-grow: 1;}#sk-0d5d7fa2-baed-4a9e-849a-95b46bfb5c74 div.sk-label:hover label.sk-toggleable__label {background-color: #d4ebff;}#sk-0d5d7fa2-baed-4a9e-849a-95b46bfb5c74 div.sk-serial::before {content: \"\";position: absolute;border-left: 1px solid gray;box-sizing: border-box;top: 2em;bottom: 0;left: 50%;}#sk-0d5d7fa2-baed-4a9e-849a-95b46bfb5c74 div.sk-serial {display: flex;flex-direction: column;align-items: center;background-color: white;padding-right: 0.2em;padding-left: 0.2em;}#sk-0d5d7fa2-baed-4a9e-849a-95b46bfb5c74 div.sk-item {z-index: 1;}#sk-0d5d7fa2-baed-4a9e-849a-95b46bfb5c74 div.sk-parallel {display: flex;align-items: stretch;justify-content: center;background-color: white;}#sk-0d5d7fa2-baed-4a9e-849a-95b46bfb5c74 div.sk-parallel::before {content: \"\";position: absolute;border-left: 1px solid gray;box-sizing: border-box;top: 2em;bottom: 0;left: 50%;}#sk-0d5d7fa2-baed-4a9e-849a-95b46bfb5c74 div.sk-parallel-item {display: flex;flex-direction: column;position: relative;background-color: white;}#sk-0d5d7fa2-baed-4a9e-849a-95b46bfb5c74 div.sk-parallel-item:first-child::after {align-self: flex-end;width: 50%;}#sk-0d5d7fa2-baed-4a9e-849a-95b46bfb5c74 div.sk-parallel-item:last-child::after {align-self: flex-start;width: 50%;}#sk-0d5d7fa2-baed-4a9e-849a-95b46bfb5c74 div.sk-parallel-item:only-child::after {width: 0;}#sk-0d5d7fa2-baed-4a9e-849a-95b46bfb5c74 div.sk-dashed-wrapped {border: 1px dashed gray;margin: 0 0.4em 0.5em 0.4em;box-sizing: border-box;padding-bottom: 0.4em;background-color: white;position: relative;}#sk-0d5d7fa2-baed-4a9e-849a-95b46bfb5c74 div.sk-label label {font-family: monospace;font-weight: bold;background-color: white;display: inline-block;line-height: 1.2em;}#sk-0d5d7fa2-baed-4a9e-849a-95b46bfb5c74 div.sk-label-container {position: relative;z-index: 2;text-align: center;}#sk-0d5d7fa2-baed-4a9e-849a-95b46bfb5c74 div.sk-container {/* jupyter's `normalize.less` sets `[hidden] { display: none; }` but bootstrap.min.css set `[hidden] { display: none !important; }` so we also need the `!important` here to be able to override the default hidden behavior on the sphinx rendered scikit-learn.org. See: https://github.com/scikit-learn/scikit-learn/issues/21755 */display: inline-block !important;position: relative;}#sk-0d5d7fa2-baed-4a9e-849a-95b46bfb5c74 div.sk-text-repr-fallback {display: none;}</style><div id=\"sk-0d5d7fa2-baed-4a9e-849a-95b46bfb5c74\" class=\"sk-top-container\"><div class=\"sk-text-repr-fallback\"><pre>Pipeline(steps=[(&#x27;text_vect&#x27;, TfidfVectorizer(max_features=30, use_idf=False)),\n",
              "                (&#x27;knn&#x27;, KNeighborsClassifier())])</pre><b>Please rerun this cell to show the HTML repr or trust the notebook.</b></div><div class=\"sk-container\" hidden><div class=\"sk-item sk-dashed-wrapped\"><div class=\"sk-label-container\"><div class=\"sk-label sk-toggleable\"><input class=\"sk-toggleable__control sk-hidden--visually\" id=\"e3d6d372-ae12-4a5f-9118-46697d2747b6\" type=\"checkbox\" ><label for=\"e3d6d372-ae12-4a5f-9118-46697d2747b6\" class=\"sk-toggleable__label sk-toggleable__label-arrow\">Pipeline</label><div class=\"sk-toggleable__content\"><pre>Pipeline(steps=[(&#x27;text_vect&#x27;, TfidfVectorizer(max_features=30, use_idf=False)),\n",
              "                (&#x27;knn&#x27;, KNeighborsClassifier())])</pre></div></div></div><div class=\"sk-serial\"><div class=\"sk-item\"><div class=\"sk-estimator sk-toggleable\"><input class=\"sk-toggleable__control sk-hidden--visually\" id=\"2da61840-a1d2-463d-b73c-c83e62ae0946\" type=\"checkbox\" ><label for=\"2da61840-a1d2-463d-b73c-c83e62ae0946\" class=\"sk-toggleable__label sk-toggleable__label-arrow\">TfidfVectorizer</label><div class=\"sk-toggleable__content\"><pre>TfidfVectorizer(max_features=30, use_idf=False)</pre></div></div></div><div class=\"sk-item\"><div class=\"sk-estimator sk-toggleable\"><input class=\"sk-toggleable__control sk-hidden--visually\" id=\"a8992b75-9cd7-4dae-8b61-46d893a48790\" type=\"checkbox\" ><label for=\"a8992b75-9cd7-4dae-8b61-46d893a48790\" class=\"sk-toggleable__label sk-toggleable__label-arrow\">KNeighborsClassifier</label><div class=\"sk-toggleable__content\"><pre>KNeighborsClassifier()</pre></div></div></div></div></div></div></div>"
            ]
          },
          "metadata": {},
          "execution_count": 27
        }
      ]
    },
    {
      "cell_type": "markdown",
      "metadata": {
        "id": "rieXB-QtPcHq"
      },
      "source": [
        "## 3. Make predictions on your test dataset\n",
        "\n",
        "Once we select our best performing model, we can use it to make predictions on the test dataset. You can simply use __.fit()__ function with your training data to use the best performing K value and use __.predict()__ with your test data to get your test predictions."
      ]
    },
    {
      "cell_type": "code",
      "execution_count": null,
      "metadata": {
        "id": "BssNQEfAPcHq"
      },
      "outputs": [],
      "source": [
        "# Implement this"
      ]
    },
    {
      "cell_type": "markdown",
      "source": [
        ".fit() = training data                         \n",
        ".predict() = test data\n",
        "\n",
        "train classifier with .fit()\n",
        "\n",
        "evaluate the performance of the trained classifier - use .predict() this time\n"
      ],
      "metadata": {
        "id": "CjmfWLDwlr3D"
      }
    },
    {
      "cell_type": "markdown",
      "source": [
        "Train the classifier"
      ],
      "metadata": {
        "id": "OXEUALXIclwV"
      }
    },
    {
      "cell_type": "code",
      "source": [
        "# We using lists of processed text fields \n",
        "X_train = train_text_list\n",
        "X_val = val_text_list\n",
        "\n",
        "# Fit the Pipeline to training data\n",
        "pipeline.fit(X_train, y_train.values)"
      ],
      "metadata": {
        "colab": {
          "base_uri": "https://localhost:8080/",
          "height": 126
        },
        "id": "ROSyvdw2qAAC",
        "outputId": "5de22e9e-b630-4328-bfe5-b4d6bea45494"
      },
      "execution_count": 28,
      "outputs": [
        {
          "output_type": "execute_result",
          "data": {
            "text/plain": [
              "Pipeline(steps=[('text_vect', TfidfVectorizer(max_features=30, use_idf=False)),\n",
              "                ('knn', KNeighborsClassifier())])"
            ],
            "text/html": [
              "<style>#sk-46ec3756-2f84-4e93-9b24-f8e4fa055d0e {color: black;background-color: white;}#sk-46ec3756-2f84-4e93-9b24-f8e4fa055d0e pre{padding: 0;}#sk-46ec3756-2f84-4e93-9b24-f8e4fa055d0e div.sk-toggleable {background-color: white;}#sk-46ec3756-2f84-4e93-9b24-f8e4fa055d0e label.sk-toggleable__label {cursor: pointer;display: block;width: 100%;margin-bottom: 0;padding: 0.3em;box-sizing: border-box;text-align: center;}#sk-46ec3756-2f84-4e93-9b24-f8e4fa055d0e label.sk-toggleable__label-arrow:before {content: \"▸\";float: left;margin-right: 0.25em;color: #696969;}#sk-46ec3756-2f84-4e93-9b24-f8e4fa055d0e label.sk-toggleable__label-arrow:hover:before {color: black;}#sk-46ec3756-2f84-4e93-9b24-f8e4fa055d0e div.sk-estimator:hover label.sk-toggleable__label-arrow:before {color: black;}#sk-46ec3756-2f84-4e93-9b24-f8e4fa055d0e div.sk-toggleable__content {max-height: 0;max-width: 0;overflow: hidden;text-align: left;background-color: #f0f8ff;}#sk-46ec3756-2f84-4e93-9b24-f8e4fa055d0e div.sk-toggleable__content pre {margin: 0.2em;color: black;border-radius: 0.25em;background-color: #f0f8ff;}#sk-46ec3756-2f84-4e93-9b24-f8e4fa055d0e input.sk-toggleable__control:checked~div.sk-toggleable__content {max-height: 200px;max-width: 100%;overflow: auto;}#sk-46ec3756-2f84-4e93-9b24-f8e4fa055d0e input.sk-toggleable__control:checked~label.sk-toggleable__label-arrow:before {content: \"▾\";}#sk-46ec3756-2f84-4e93-9b24-f8e4fa055d0e div.sk-estimator input.sk-toggleable__control:checked~label.sk-toggleable__label {background-color: #d4ebff;}#sk-46ec3756-2f84-4e93-9b24-f8e4fa055d0e div.sk-label input.sk-toggleable__control:checked~label.sk-toggleable__label {background-color: #d4ebff;}#sk-46ec3756-2f84-4e93-9b24-f8e4fa055d0e input.sk-hidden--visually {border: 0;clip: rect(1px 1px 1px 1px);clip: rect(1px, 1px, 1px, 1px);height: 1px;margin: -1px;overflow: hidden;padding: 0;position: absolute;width: 1px;}#sk-46ec3756-2f84-4e93-9b24-f8e4fa055d0e div.sk-estimator {font-family: monospace;background-color: #f0f8ff;border: 1px dotted black;border-radius: 0.25em;box-sizing: border-box;margin-bottom: 0.5em;}#sk-46ec3756-2f84-4e93-9b24-f8e4fa055d0e div.sk-estimator:hover {background-color: #d4ebff;}#sk-46ec3756-2f84-4e93-9b24-f8e4fa055d0e div.sk-parallel-item::after {content: \"\";width: 100%;border-bottom: 1px solid gray;flex-grow: 1;}#sk-46ec3756-2f84-4e93-9b24-f8e4fa055d0e div.sk-label:hover label.sk-toggleable__label {background-color: #d4ebff;}#sk-46ec3756-2f84-4e93-9b24-f8e4fa055d0e div.sk-serial::before {content: \"\";position: absolute;border-left: 1px solid gray;box-sizing: border-box;top: 2em;bottom: 0;left: 50%;}#sk-46ec3756-2f84-4e93-9b24-f8e4fa055d0e div.sk-serial {display: flex;flex-direction: column;align-items: center;background-color: white;padding-right: 0.2em;padding-left: 0.2em;}#sk-46ec3756-2f84-4e93-9b24-f8e4fa055d0e div.sk-item {z-index: 1;}#sk-46ec3756-2f84-4e93-9b24-f8e4fa055d0e div.sk-parallel {display: flex;align-items: stretch;justify-content: center;background-color: white;}#sk-46ec3756-2f84-4e93-9b24-f8e4fa055d0e div.sk-parallel::before {content: \"\";position: absolute;border-left: 1px solid gray;box-sizing: border-box;top: 2em;bottom: 0;left: 50%;}#sk-46ec3756-2f84-4e93-9b24-f8e4fa055d0e div.sk-parallel-item {display: flex;flex-direction: column;position: relative;background-color: white;}#sk-46ec3756-2f84-4e93-9b24-f8e4fa055d0e div.sk-parallel-item:first-child::after {align-self: flex-end;width: 50%;}#sk-46ec3756-2f84-4e93-9b24-f8e4fa055d0e div.sk-parallel-item:last-child::after {align-self: flex-start;width: 50%;}#sk-46ec3756-2f84-4e93-9b24-f8e4fa055d0e div.sk-parallel-item:only-child::after {width: 0;}#sk-46ec3756-2f84-4e93-9b24-f8e4fa055d0e div.sk-dashed-wrapped {border: 1px dashed gray;margin: 0 0.4em 0.5em 0.4em;box-sizing: border-box;padding-bottom: 0.4em;background-color: white;position: relative;}#sk-46ec3756-2f84-4e93-9b24-f8e4fa055d0e div.sk-label label {font-family: monospace;font-weight: bold;background-color: white;display: inline-block;line-height: 1.2em;}#sk-46ec3756-2f84-4e93-9b24-f8e4fa055d0e div.sk-label-container {position: relative;z-index: 2;text-align: center;}#sk-46ec3756-2f84-4e93-9b24-f8e4fa055d0e div.sk-container {/* jupyter's `normalize.less` sets `[hidden] { display: none; }` but bootstrap.min.css set `[hidden] { display: none !important; }` so we also need the `!important` here to be able to override the default hidden behavior on the sphinx rendered scikit-learn.org. See: https://github.com/scikit-learn/scikit-learn/issues/21755 */display: inline-block !important;position: relative;}#sk-46ec3756-2f84-4e93-9b24-f8e4fa055d0e div.sk-text-repr-fallback {display: none;}</style><div id=\"sk-46ec3756-2f84-4e93-9b24-f8e4fa055d0e\" class=\"sk-top-container\"><div class=\"sk-text-repr-fallback\"><pre>Pipeline(steps=[(&#x27;text_vect&#x27;, TfidfVectorizer(max_features=30, use_idf=False)),\n",
              "                (&#x27;knn&#x27;, KNeighborsClassifier())])</pre><b>Please rerun this cell to show the HTML repr or trust the notebook.</b></div><div class=\"sk-container\" hidden><div class=\"sk-item sk-dashed-wrapped\"><div class=\"sk-label-container\"><div class=\"sk-label sk-toggleable\"><input class=\"sk-toggleable__control sk-hidden--visually\" id=\"352d5964-2f9e-48ad-b8fb-0714a5f0b21c\" type=\"checkbox\" ><label for=\"352d5964-2f9e-48ad-b8fb-0714a5f0b21c\" class=\"sk-toggleable__label sk-toggleable__label-arrow\">Pipeline</label><div class=\"sk-toggleable__content\"><pre>Pipeline(steps=[(&#x27;text_vect&#x27;, TfidfVectorizer(max_features=30, use_idf=False)),\n",
              "                (&#x27;knn&#x27;, KNeighborsClassifier())])</pre></div></div></div><div class=\"sk-serial\"><div class=\"sk-item\"><div class=\"sk-estimator sk-toggleable\"><input class=\"sk-toggleable__control sk-hidden--visually\" id=\"fed385de-d8d0-46c1-b65c-6f0783b18a83\" type=\"checkbox\" ><label for=\"fed385de-d8d0-46c1-b65c-6f0783b18a83\" class=\"sk-toggleable__label sk-toggleable__label-arrow\">TfidfVectorizer</label><div class=\"sk-toggleable__content\"><pre>TfidfVectorizer(max_features=30, use_idf=False)</pre></div></div></div><div class=\"sk-item\"><div class=\"sk-estimator sk-toggleable\"><input class=\"sk-toggleable__control sk-hidden--visually\" id=\"a21820c0-044f-4b56-9f29-5258797165cb\" type=\"checkbox\" ><label for=\"a21820c0-044f-4b56-9f29-5258797165cb\" class=\"sk-toggleable__label sk-toggleable__label-arrow\">KNeighborsClassifier</label><div class=\"sk-toggleable__content\"><pre>KNeighborsClassifier()</pre></div></div></div></div></div></div></div>"
            ]
          },
          "metadata": {},
          "execution_count": 28
        }
      ]
    },
    {
      "cell_type": "markdown",
      "source": [
        "Test the classifier   == using .predict()"
      ],
      "metadata": {
        "id": "Zvor_k7zFJ7n"
      }
    },
    {
      "cell_type": "code",
      "source": [
        "from sklearn.metrics import confusion_matrix, classification_report, accuracy_score\n",
        "\n",
        "# Use the fitted pipeline to make predictions on the validation dataset\n",
        "val_predictions = pipeline.predict(X_val)\n",
        "print(confusion_matrix(y_val.values, val_predictions))\n",
        "print(classification_report(y_val.values, val_predictions))\n",
        "print(\"Accuracy (validation):\", accuracy_score(y_val.values, val_predictions))"
      ],
      "metadata": {
        "colab": {
          "base_uri": "https://localhost:8080/"
        },
        "id": "_D_XXrfSqEJF",
        "outputId": "67d8b345-2e87-4c1e-916d-fb811b13c17a"
      },
      "execution_count": 30,
      "outputs": [
        {
          "output_type": "stream",
          "name": "stdout",
          "text": [
            "[[804 476]\n",
            " [453 767]]\n",
            "              precision    recall  f1-score   support\n",
            "\n",
            "           0       0.64      0.63      0.63      1280\n",
            "           1       0.62      0.63      0.62      1220\n",
            "\n",
            "    accuracy                           0.63      2500\n",
            "   macro avg       0.63      0.63      0.63      2500\n",
            "weighted avg       0.63      0.63      0.63      2500\n",
            "\n",
            "Accuracy (validation): 0.6284\n"
          ]
        }
      ]
    },
    {
      "cell_type": "markdown",
      "source": [
        "when max features = 10,binary = True, accuracy = 0.5252\n",
        "when max features = 10,binary = False, accuracy = 0.514\n",
        "\n",
        "when max features = 20, binary = True, accuracy = 0.5544\n",
        "when max features = 20, binary = False, accuracy = 0.5888\n",
        "\n",
        "when max features = 30, binary = True, accuracy = 0.6068\n",
        "when max features = 30, binary = False, accuracy = 0.6232\n",
        "\n",
        "\n",
        "\n",
        "when max features = 10, when TfidfVectorizer(use_idf=True) , accuracy = 0.5292  \n",
        "when max features = 10, when TfidfVectorizer(use_idf=False) , accuracy = 0.5244\n",
        "\n",
        "when max features = 20, when TfidfVectorizer(use_idf=True) , accuracy = 0.6036\n",
        "when max features = 20, when TfidfVectorizer(use_idf=False) , accuracy = 0.5944 \n",
        "\n",
        "when max features = 30, when TfidfVectorizer(use_idf=True) , accuracy = 0.628\n",
        "when max features = 30, when TfidfVectorizer(use_idf=False) , accuracy = 0.6284\n",
        "\n",
        "\n",
        "0.6284 is highest percentage"
      ],
      "metadata": {
        "id": "oyHKx1wqAotZ"
      }
    },
    {
      "cell_type": "markdown",
      "source": [
        "use:\n",
        "\n",
        "when max features = 20, binary = False, accuracy = 0.5888\n",
        "\n",
        "when max features = 20, when TfidfVectorizer(use_idf=True) , accuracy = 0.6036"
      ],
      "metadata": {
        "id": "a47H3zH0OCbc"
      }
    },
    {
      "cell_type": "markdown",
      "source": [
        "Now use the pipeline with the test dataset "
      ],
      "metadata": {
        "id": "x4IKap0Zdc3O"
      }
    },
    {
      "cell_type": "code",
      "source": [
        "x_1=process_text(test_df[\"text\"].tolist())\n",
        "y_1=test_df[\"label\"]\n"
      ],
      "metadata": {
        "id": "l6rbzw7_gmeB"
      },
      "execution_count": 21,
      "outputs": []
    },
    {
      "cell_type": "code",
      "source": [
        "print(x_1[1])\n",
        "\n",
        "print(y_1[1])"
      ],
      "metadata": {
        "colab": {
          "base_uri": "https://localhost:8080/"
        },
        "id": "loSKmLJ9I__z",
        "outputId": "92c78861-545b-4de0-9996-1da085254f81"
      },
      "execution_count": 31,
      "outputs": [
        {
          "output_type": "stream",
          "name": "stdout",
          "text": [
            "garden state must rate amongst contriv pretenti film time plot simpl one involv young man return home mother death discov love realli plot n't import import zach braff writer director star abl hang plot necessari accoutr indi arti film therefor present endless cute quirki charact scene n't exist reason plot charact develop simpli give artist credibl film wes anderson braff hope unfortun somewhat astonish braff not fool mani imdb also critic realli ought known better.of cours braff gratuit use quirki alon not make garden state bad film realli make garden state stinker braff script simpli not write skill carri film dialogu characteris abysm braff often resort blunt devis symbol achiev n't achiev write exampl numb braff charact shown indiffer impend plane crash n't work plot take place dream later shown fight back against circumst scream bottomless abyss life bottomless abyss clever braff two scene must rank amongst ludicr contriv ever seen cinema screen.on plus side act passabl despit lack materi cast work mean script admir natali portman effort love interest charact bad written implaus littl mindless doll braff mould fantasi woman.it appar took braff year write script garden state year write script bad realli inept hope therefor time make anoth film\n",
            "0\n"
          ]
        }
      ]
    },
    {
      "cell_type": "code",
      "source": [
        "from sklearn.metrics import confusion_matrix, classification_report, accuracy_score\n",
        "\n",
        "# Use the fitted pipeline to make predictions on the test_df\n",
        "val_predictions = pipeline.predict(x_1)\n",
        "print(confusion_matrix(y_1.values, val_predictions))\n",
        "print(classification_report(y_1.values, val_predictions))\n",
        "print(\"Accuracy (validation):\", accuracy_score(y_1.values, val_predictions))"
      ],
      "metadata": {
        "colab": {
          "base_uri": "https://localhost:8080/"
        },
        "id": "WFm5mIC_gkOY",
        "outputId": "7456fb99-8b8c-4087-e28c-7ceb3a0012ef"
      },
      "execution_count": 32,
      "outputs": [
        {
          "output_type": "stream",
          "name": "stdout",
          "text": [
            "[[7834 4666]\n",
            " [4626 7874]]\n",
            "              precision    recall  f1-score   support\n",
            "\n",
            "           0       0.63      0.63      0.63     12500\n",
            "           1       0.63      0.63      0.63     12500\n",
            "\n",
            "    accuracy                           0.63     25000\n",
            "   macro avg       0.63      0.63      0.63     25000\n",
            "weighted avg       0.63      0.63      0.63     25000\n",
            "\n",
            "Accuracy (validation): 0.62832\n"
          ]
        }
      ]
    },
    {
      "cell_type": "markdown",
      "source": [
        "when max features = 30, when TfidfVectorizer(use_idf=False) , accuracy = 0.62832"
      ],
      "metadata": {
        "id": "7uvMUN-td7ZV"
      }
    }
  ],
  "metadata": {
    "kernelspec": {
      "display_name": "conda_python3",
      "language": "python",
      "name": "conda_python3"
    },
    "language_info": {
      "codemirror_mode": {
        "name": "ipython",
        "version": 3
      },
      "file_extension": ".py",
      "mimetype": "text/x-python",
      "name": "python",
      "nbconvert_exporter": "python",
      "pygments_lexer": "ipython3",
      "version": "3.6.13"
    },
    "colab": {
      "provenance": [],
      "collapsed_sections": []
    }
  },
  "nbformat": 4,
  "nbformat_minor": 0
}